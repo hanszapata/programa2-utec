{
  "nbformat": 4,
  "nbformat_minor": 0,
  "metadata": {
    "colab": {
      "provenance": [],
      "include_colab_link": true
    },
    "kernelspec": {
      "name": "python3",
      "display_name": "Python 3"
    },
    "language_info": {
      "name": "python"
    }
  },
  "cells": [
    {
      "cell_type": "markdown",
      "metadata": {
        "id": "view-in-github",
        "colab_type": "text"
      },
      "source": [
        "<a href=\"https://colab.research.google.com/github/hanszapata/programa2-utec/blob/main/mod1_trabajo_calificado_misiones_de_codigo_resuelto_4.ipynb\" target=\"_parent\"><img src=\"https://colab.research.google.com/assets/colab-badge.svg\" alt=\"Open In Colab\"/></a>"
      ]
    },
    {
      "cell_type": "markdown",
      "source": [
        "<img src=\"https://posgrado.utec.edu.pe/sites/default/files/2023-08/Testimonial-home-2.jpg\" alt=\"HTML5 Icon\" width=\"900\" height=\"250\" >\n"
      ],
      "metadata": {
        "id": "dYz-CyepUcRS"
      }
    },
    {
      "cell_type": "markdown",
      "source": [
        "# **Trabajo Calificado: Misiones de Código**"
      ],
      "metadata": {
        "id": "tYd6BiWgUfLo"
      }
    },
    {
      "cell_type": "markdown",
      "source": [
        "**Contexto:**\n",
        "\n",
        "Eres desarrollador de un Simulador de Aventuras llamado Pythonia, un entorno virtual de entrenamiento diseñado para mejorar tus habilidades de programación. En este simulador, enfrentarás una serie de desafíos basados en situaciones de videojuegos y escenarios de aventura, donde deberás aplicar estructuras lógicas, condicionales, bucles y funciones para resolver problemas.\n",
        "\n"
      ],
      "metadata": {
        "id": "GtjjVTFRU6W1"
      }
    },
    {
      "cell_type": "markdown",
      "source": [
        "Cada ejercicio representa un reto independiente que simula eventos comunes en el desarrollo de videojuegos, sistemas de simulación y lógica de juegos interactivos."
      ],
      "metadata": {
        "id": "Ggayz2SXVXjt"
      }
    },
    {
      "cell_type": "markdown",
      "source": [
        "**Recomendaciones:**\n",
        "\n",
        "Utilizar buenas prácticas: comentarios, entradas y salidas limpias.\n",
        "\n",
        "Uso de funciones donde sea necesario."
      ],
      "metadata": {
        "id": "eAL1_dscUjd_"
      }
    },
    {
      "cell_type": "markdown",
      "source": [
        "**Ejercicio 1: Elige tu personaje (Variables y Entrada/Salida)**\n",
        "\n",
        "Crea un programa que permita al jugador elegir su personaje entre Mago, Guerrero o Arquero. Según la elección, muestra un mensaje personalizado con las estadísticas iniciales (vida, poder, defensa)."
      ],
      "metadata": {
        "id": "YpxJc_PoVc4c"
      }
    },
    {
      "cell_type": "code",
      "source": [
        "## INICIO DE CÓDIGO\n",
        "\n",
        "\n",
        "Mago = {\"vida\": 100, \"poder\": 20, \"defensa\": 15}       ## creacion de diccionarios para cada personaje\n",
        "Guerrero = {\"vida\": 120, \"poder\": 15, \"defensa\": 20}   ## creacion de diccionarios para cada personaje\n",
        "Arquero = {\"vida\": 120, \"poder\": 15, \"defensa\": 20}    ## creacion de diccionarios para cada personaje\n",
        "selec_personaje = input(\"Elige un personaje para jugar entre Mago,Guerrero,Arquero:\").strip()   #creando un input para seleccionar personaje y borrando los espacios en blanco\n",
        "selec_personaje_limpio = selec_personaje.capitalize()  ## convirtiendo la primera letra de las entradas en mayusculas y todas las demas en minusculas\n",
        "## de acuerdo a lo ingresado se compara y se muestra las estadisticas de cada personaje\n",
        "if selec_personaje_limpio == \"Mago\":\n",
        "  print(f\"Mago tiene las siguientes estadisticas{Mago}\")\n",
        "elif selec_personaje_limpio == \"Guerrero\":\n",
        "  print(f\"Guerrero tiene las siguientes estadisticas{Guerrero}\")\n",
        "elif selec_personaje_limpio == \"Arquero\":\n",
        "  print(f\"Arquero tiene las siguientes estadisticas{Arquero}\")\n",
        "else:\n",
        "  print(\"Personaje no valido\")\n",
        "\n",
        "## FIN DE CÓDIGO"
      ],
      "metadata": {
        "id": "GZrzl-7wVfkW",
        "colab": {
          "base_uri": "https://localhost:8080/"
        },
        "outputId": "fca0404d-91bc-4e4b-fd4c-b3a63c64482b"
      },
      "execution_count": null,
      "outputs": [
        {
          "output_type": "stream",
          "name": "stdout",
          "text": [
            "Elige un personaje para jugar entre Mago,Guerrero,Arquero:arquero\n",
            "Arquero tiene las siguientes estadisticas{'vida': 120, 'poder': 15, 'defensa': 20}\n"
          ]
        }
      ]
    },
    {
      "cell_type": "markdown",
      "source": [
        "**Ejercicio 2: La prueba del sabio (Condicionales)**\n",
        "\n",
        "El sabio te hace una pregunta: si traes menos de 50 monedas de oro, te expulsará; si llevas entre 50 y 100, te permitirá pasar; si llevas más de 100, te dará una poción.\n",
        "Crea el programa que lea las monedas y muestre el resultado."
      ],
      "metadata": {
        "id": "kvoGwX-QVgPr"
      }
    },
    {
      "cell_type": "code",
      "execution_count": null,
      "metadata": {
        "id": "3tg6KSK-UbUw",
        "colab": {
          "base_uri": "https://localhost:8080/"
        },
        "outputId": "066fb0cb-19af-4899-cc64-d10f411415fe"
      },
      "outputs": [
        {
          "output_type": "stream",
          "name": "stdout",
          "text": [
            "Yo soy el sabio,dime cuantas monedasde oro tienes para mi y te dire que tengo para ti:200\n",
            "asi que 200,monedas\n",
            "para ti,te brindo esta pocion\n"
          ]
        }
      ],
      "source": [
        "## INICIO DE CÓDIGO\n",
        "monedas = int(input(\"Yo soy el sabio,dime cuantas monedasde oro tienes para mi y te dire que tengo para ti:\"))\n",
        "print(f\"asi que {monedas},monedas\")\n",
        "if monedas < 50 :\n",
        "  print(\"para ti, te corresponde la expulsion,adios...\")\n",
        "elif monedas >= 50 and monedas<= 100 :\n",
        "  print(\"para ti, te concedo el pase a tu siguiente destino\")\n",
        "elif monedas > 100 :\n",
        "  print(\"para ti,te brindo esta pocion\")\n",
        "\n",
        "## FIN DE CÓDIGO"
      ]
    },
    {
      "cell_type": "markdown",
      "source": [
        "**Ejercicio 3: El puente infinito (Bucles While)**\n",
        "\n",
        "Diseña un programa que simule el cruce de un puente que cambia su estructura aleatoriamente. El jugador debe adivinar si el siguiente paso será seguro ('s') o peligroso ('p').\n",
        "El juego termina si el jugador elige 'salir' o si falla 3 veces."
      ],
      "metadata": {
        "id": "g7B02fWhVj4M"
      }
    },
    {
      "cell_type": "code",
      "source": [
        "## INICIO DE CÓDIGO\n",
        "from random import choices\n",
        "n_fallas = 0\n",
        "elegir = \"\"\n",
        "while elegir != \"salir\" and n_fallas!=3 :\n",
        "  paso = choices(\"sp\")   ###generando las letras aleatorias entre s o p\n",
        "  print(f\"Paso aleatorio:{paso}\")\n",
        "  elegir = input(\"adivina paso s o paso p: \").strip().lower() ### ingresando y formateando lo que ingresa el jugador\n",
        "  if elegir == paso:\n",
        "    continue\n",
        "  elif n_fallas < 3:\n",
        "    n_fallas = n_fallas + 1\n",
        "    print(f\"numero de fallas: {n_fallas}\")\n",
        "    continue\n",
        "  else:\n",
        "    break\n",
        "print(f\"fin del juego\")\n",
        "\n",
        "## FIN DE CÓDIGO"
      ],
      "metadata": {
        "id": "9DRMWhDBVn71",
        "colab": {
          "base_uri": "https://localhost:8080/"
        },
        "outputId": "a0988b15-f5cb-4279-e582-61e775d8b1cb"
      },
      "execution_count": null,
      "outputs": [
        {
          "output_type": "stream",
          "name": "stdout",
          "text": [
            "Paso aleatorio:['s']\n",
            "adivina paso s o paso p: salir\n",
            "numero de fallas: 1\n",
            "fin del juego\n"
          ]
        }
      ]
    },
    {
      "cell_type": "markdown",
      "source": [
        "**Ejercicio 4: El laberinto secreto (Bucle For y Range)**\n",
        "\n",
        "Crea un programa que muestre una cuenta regresiva desde 10 hasta 1 al estilo nivel de escape del laberinto. Cada número debe ir acompañado de un mensaje tipo \"Quedan X segundos para escapar\"."
      ],
      "metadata": {
        "id": "66qKXQwTVoZG"
      }
    },
    {
      "cell_type": "code",
      "source": [
        "## INICIO DE CÓDIGO\n",
        "n=10\n",
        "for i in range(1,11,1):\n",
        "  print(f\"Quedan {n} segundos para escapar\")\n",
        "  n=n-1\n",
        "## FIN DE CÓDIGO"
      ],
      "metadata": {
        "id": "i1S9WPmhVsEj",
        "colab": {
          "base_uri": "https://localhost:8080/"
        },
        "outputId": "eda912de-e18c-47d3-c6d7-740ff5075339"
      },
      "execution_count": null,
      "outputs": [
        {
          "output_type": "stream",
          "name": "stdout",
          "text": [
            "Quedan 10 segundos para escapar\n",
            "Quedan 9 segundos para escapar\n",
            "Quedan 8 segundos para escapar\n",
            "Quedan 7 segundos para escapar\n",
            "Quedan 6 segundos para escapar\n",
            "Quedan 5 segundos para escapar\n",
            "Quedan 4 segundos para escapar\n",
            "Quedan 3 segundos para escapar\n",
            "Quedan 2 segundos para escapar\n",
            "Quedan 1 segundos para escapar\n"
          ]
        }
      ]
    },
    {
      "cell_type": "markdown",
      "source": [
        "**Ejercicio 5: Cofres encantados (Break y Continue)**\n",
        "\n",
        "Simula 10 cofres cerrados, pero uno de ellos es una trampa explosiva (elige aleatoriamente una posición).\n",
        "El jugador abre cofres uno por uno:\n",
        "\n",
        "* Si encuentra la trampa, termina el juego (break).\n",
        "\n",
        "* Si encuentra cofres vacíos, continúa (continue).\n",
        "\n",
        "* Si abre todos sin explotar, gana."
      ],
      "metadata": {
        "id": "5dL6C-x1VsYf"
      }
    },
    {
      "cell_type": "code",
      "source": [
        "## INICIO DE CÓDIGO\n",
        "from random import randint\n",
        "trampa = randint(1,10)  ## genero un numero aleatorio para la caja que explota\n",
        "print(trampa)  ## sirve para probar que el juego termina si el jugador ingresa el numero de cofre igual a la trampa\n",
        "print(\"¡Bienvenido al juego de cofres! Hay 10 cofres, uno de ellos tiene una trampa.\")\n",
        "for i in range(1,10): ## defino que solo puedan escoger maximo 10 cofres\n",
        "  while True:\n",
        "    select_cofre = int(input(\"Que cofre quieres abrir del 1 al 10:\\n\"))  ##solicito al jugador que cofre abrir\n",
        "    break\n",
        "  if select_cofre == trampa:  ## si el jugador escoje justamente el cofre trampa termina el juego y explota\n",
        "    print(\"Cofre explotó,Juego terminado\")\n",
        "    break\n",
        "  else:\n",
        "    print(\"Cofre vacio,continua buscando selecciona un numero diferente\") ## si el jugador NO escoje el cofre trampa sigue abriendo cofres\n",
        "else:\n",
        " print(\"ganaste abriste los cofres sin explotar\")\n",
        " print(f\"el cofre que explotabá era el: {trampa}\")\n",
        "\n",
        "## FIN DE CÓDIGO"
      ],
      "metadata": {
        "id": "d0hcbl0_V2BI",
        "colab": {
          "base_uri": "https://localhost:8080/"
        },
        "outputId": "8034918f-aa8a-4ab7-bf83-2a7fe6fb60d1"
      },
      "execution_count": 112,
      "outputs": [
        {
          "output_type": "stream",
          "name": "stdout",
          "text": [
            "7\n",
            "¡Bienvenido al juego de cofres! Hay 10 cofres, uno de ellos tiene una trampa.\n",
            "Que cofre quieres abrir del 1 al 10:\n",
            "7\n",
            "Cofre explotó,Juego terminado\n"
          ]
        }
      ]
    },
    {
      "cell_type": "markdown",
      "source": [
        "**Ejercicio 6: Pociones mágicas (Funciones básicas)**\n",
        "\n",
        "Crea una función usar_pocion(tipo) que permita al jugador elegir entre 'vida', 'fuerza' o 'velocidad', y retorne el efecto de la poción.\n",
        "Luego, pide al usuario que elija una poción y muestra el resultado llamando a la función."
      ],
      "metadata": {
        "id": "94yOz-rKV2gp"
      }
    },
    {
      "cell_type": "code",
      "source": [
        "## INICIO DE CÓDIGO\n",
        "lista =[\"vida\",\"fuerza\",\"velocidad\"]\n",
        "def usar_pocion() :\n",
        "  pocion = input(f\"elegir una pocion entre:{lista}:\\n\").strip().lower()\n",
        "  if pocion == lista[0]:\n",
        "    return print(f\"El efecto de la pocion es: doble {lista[0]}\")\n",
        "  elif pocion == lista[1]:\n",
        "    return  print(f\"El efecto de la pocion es: super {lista[1]}\")\n",
        "  elif pocion == lista[2]:\n",
        "    return  print(f\"El efecto de la pocion es:  mega {lista[2]}\")\n",
        "usar_pocion()\n",
        "\n",
        "## FIN DE CÓDIGO"
      ],
      "metadata": {
        "id": "NQKm0w5iV4Zz",
        "colab": {
          "base_uri": "https://localhost:8080/"
        },
        "outputId": "e31a287f-c98c-425a-b211-ed47a60a4111"
      },
      "execution_count": null,
      "outputs": [
        {
          "output_type": "stream",
          "name": "stdout",
          "text": [
            "elegir una pocion entre:['vida', 'fuerza', 'velocidad']:\n",
            " vIda\n",
            "El efecto de la pocion es: doble vida\n"
          ]
        }
      ]
    },
    {
      "cell_type": "markdown",
      "source": [
        "**Ejercicio 7: Calculadora de daño crítico (Funciones con parámetros)**\n",
        "\n",
        "Crea una función calcular_danio(base, critico) que reciba el daño base y un porcentaje de crítico, devolviendo el daño total.\n",
        "El usuario ingresará el daño base y el porcentaje crítico."
      ],
      "metadata": {
        "id": "Qdnbnm4nV44h"
      }
    },
    {
      "cell_type": "code",
      "source": [
        "## INICIO DE CÓDIGO\n",
        "def calcular_danio(base,critico):\n",
        "  base = int(input(\"Ingresar daño base:\\n\"))\n",
        "  porcentaje =int(input(\"Ingresar porcentaje de daño critico:\\n\"))\n",
        "  if porcentaje <0 or porcentaje > 100:\n",
        "             print(\"ingrese porcentaje entre 0 y 100%\")\n",
        "  else:\n",
        "    porcentaje_total = base + base*porcentaje/100\n",
        "    return porcentaje_total\n",
        "print(calcular_danio(\"base\",\"critico\"))\n",
        "\n",
        "## FIN DE CÓDIGO"
      ],
      "metadata": {
        "id": "leaLQJWrV8Tx",
        "colab": {
          "base_uri": "https://localhost:8080/"
        },
        "outputId": "8738a2e6-d654-4218-fccc-3207fc5a8821"
      },
      "execution_count": null,
      "outputs": [
        {
          "output_type": "stream",
          "name": "stdout",
          "text": [
            "Ingresar daño base:\n",
            "100\n",
            "Ingresar porcentaje de daño critico:\n",
            "50\n",
            "150.0\n"
          ]
        }
      ]
    },
    {
      "cell_type": "markdown",
      "source": [
        "**Ejercicio 8: El desafío del dragón (Condicionales + funciones + bucles)**\n",
        "\n",
        "Diseña una función enfrentar_dragon(vida, fuerza) que simule el combate:\n",
        "\n",
        "* El jugador ataca al dragón y el dragón contraataca restando vida.\n",
        "\n",
        "* Si la vida llega a 0, el jugador pierde.\n",
        "\n",
        "* Si el jugador realiza 3 ataques consecutivos sin morir, gana.\n",
        "Usa un bucle while interno para el combate."
      ],
      "metadata": {
        "id": "d4j1ckE2V9ag"
      }
    },
    {
      "cell_type": "code",
      "source": [
        "## INICIO DE CÓDIGO\n",
        "\n",
        "## FIN DE CÓDIGO"
      ],
      "metadata": {
        "id": "_CGyWwuaWByi"
      },
      "execution_count": null,
      "outputs": []
    },
    {
      "cell_type": "markdown",
      "source": [
        "**Ejercicio 9: El camino del héroe (Recursividad sencilla)**\n",
        "\n",
        "Crea una función recursiva que simule el camino de un héroe cruzando N obstáculos, mostrando mensajes como:\n",
        "\n",
        "\"Obstáculo 3: saltando...\"\n",
        "\n",
        "Termina cuando N llegue a 0."
      ],
      "metadata": {
        "id": "8X5Y08fQWCFU"
      }
    },
    {
      "cell_type": "code",
      "source": [
        "## INICIO DE CÓDIGO\n",
        "\n",
        "## FIN DE CÓDIGO"
      ],
      "metadata": {
        "id": "vVDjZHSVWJdQ"
      },
      "execution_count": null,
      "outputs": []
    },
    {
      "cell_type": "markdown",
      "source": [
        "**Ejercicio 10: Torre de los hechizos (Reto Integrador Final)**\n",
        "\n",
        "Crea un programa completo que combine:\n",
        "\n",
        "* Elección de personaje.\n",
        "\n",
        "* Simulación de un combate contra un enemigo con vida y defensa.\n",
        "\n",
        "* Uso de funciones para calcular el daño.\n",
        "\n",
        "* Bucles para turnos de combate.\n",
        "\n",
        "* Uso de una función recursiva que simule las rondas como niveles (nivel 1, 2, 3 hasta ganar).\n",
        "\n"
      ],
      "metadata": {
        "id": "Behbpl_8WJzR"
      }
    },
    {
      "cell_type": "code",
      "source": [
        "## INICIO DE CÓDIGO\n",
        "\n",
        "## FIN DE CÓDIGO"
      ],
      "metadata": {
        "id": "smtLq1SDWTJd"
      },
      "execution_count": null,
      "outputs": []
    },
    {
      "cell_type": "markdown",
      "source": [
        "---\n",
        "\n",
        "# Gracias por completar este laboratorio!\n",
        "\n",
        "---\n"
      ],
      "metadata": {
        "id": "EONqoa25Wlx3"
      }
    },
    {
      "cell_type": "code",
      "source": [
        "for i in range(10):\n",
        "  print(i)\n",
        "print(\"fin\")\n",
        "for i in range(1,10):\n",
        "  print(i)\n"
      ],
      "metadata": {
        "colab": {
          "base_uri": "https://localhost:8080/"
        },
        "id": "9fOhjDTxaOTY",
        "outputId": "05218aa8-a566-4d3e-97ac-f9ac198c8e84"
      },
      "execution_count": 51,
      "outputs": [
        {
          "output_type": "stream",
          "name": "stdout",
          "text": [
            "0\n",
            "1\n",
            "2\n",
            "3\n",
            "4\n",
            "5\n",
            "6\n",
            "7\n",
            "8\n",
            "9\n",
            "fin\n",
            "1\n",
            "2\n",
            "3\n",
            "4\n",
            "5\n",
            "6\n",
            "7\n",
            "8\n",
            "9\n"
          ]
        }
      ]
    },
    {
      "cell_type": "code",
      "source": [
        "type(9)"
      ],
      "metadata": {
        "colab": {
          "base_uri": "https://localhost:8080/"
        },
        "id": "gKyXH_7ZtLG8",
        "outputId": "d8dfe0f6-5508-43ec-ff83-73a2f69924d6"
      },
      "execution_count": 64,
      "outputs": [
        {
          "output_type": "execute_result",
          "data": {
            "text/plain": [
              "int"
            ]
          },
          "metadata": {},
          "execution_count": 64
        }
      ]
    }
  ]
}